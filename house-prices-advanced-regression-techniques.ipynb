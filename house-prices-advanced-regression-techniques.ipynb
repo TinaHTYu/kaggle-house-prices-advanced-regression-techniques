{
 "cells": [
  {
   "cell_type": "code",
   "execution_count": 1,
   "id": "db0a8147",
   "metadata": {
    "_cell_guid": "b1076dfc-b9ad-4769-8c92-a6c4dae69d19",
    "_uuid": "8f2839f25d086af736a60e9eeb907d3b93b6e0e5",
    "execution": {
     "iopub.execute_input": "2023-01-13T17:42:49.196598Z",
     "iopub.status.busy": "2023-01-13T17:42:49.195957Z",
     "iopub.status.idle": "2023-01-13T17:42:49.213957Z",
     "shell.execute_reply": "2023-01-13T17:42:49.212514Z"
    },
    "papermill": {
     "duration": 0.033539,
     "end_time": "2023-01-13T17:42:49.218848",
     "exception": false,
     "start_time": "2023-01-13T17:42:49.185309",
     "status": "completed"
    },
    "tags": []
   },
   "outputs": [
    {
     "name": "stdout",
     "output_type": "stream",
     "text": [
      "/kaggle/input/house-prices-advanced-regression-techniques/sample_submission.csv\n",
      "/kaggle/input/house-prices-advanced-regression-techniques/data_description.txt\n",
      "/kaggle/input/house-prices-advanced-regression-techniques/train.csv\n",
      "/kaggle/input/house-prices-advanced-regression-techniques/test.csv\n"
     ]
    }
   ],
   "source": [
    "# This Python 3 environment comes with many helpful analytics libraries installed\n",
    "# It is defined by the kaggle/python Docker image: https://github.com/kaggle/docker-python\n",
    "# For example, here's several helpful packages to load\n",
    "\n",
    "import numpy as np # linear algebra\n",
    "import pandas as pd # data processing, CSV file I/O (e.g. pd.read_csv)\n",
    "\n",
    "# Input data files are available in the read-only \"../input/\" directory\n",
    "# For example, running this (by clicking run or pressing Shift+Enter) will list all files under the input directory\n",
    "\n",
    "import os\n",
    "for dirname, _, filenames in os.walk('/kaggle/input'):\n",
    "    for filename in filenames:\n",
    "        print(os.path.join(dirname, filename))\n",
    "\n",
    "# You can write up to 20GB to the current directory (/kaggle/working/) that gets preserved as output when you create a version using \"Save & Run All\" \n",
    "# You can also write temporary files to /kaggle/temp/, but they won't be saved outside of the current session"
   ]
  },
  {
   "cell_type": "code",
   "execution_count": 2,
   "id": "07caa3d3",
   "metadata": {
    "execution": {
     "iopub.execute_input": "2023-01-13T17:42:49.236137Z",
     "iopub.status.busy": "2023-01-13T17:42:49.235668Z",
     "iopub.status.idle": "2023-01-13T17:42:49.321941Z",
     "shell.execute_reply": "2023-01-13T17:42:49.320951Z"
    },
    "papermill": {
     "duration": 0.09777,
     "end_time": "2023-01-13T17:42:49.324745",
     "exception": false,
     "start_time": "2023-01-13T17:42:49.226975",
     "status": "completed"
    },
    "tags": []
   },
   "outputs": [
    {
     "name": "stdout",
     "output_type": "stream",
     "text": [
      "train shape: (1460, 81)\n",
      "test shape: (1459, 80)\n"
     ]
    }
   ],
   "source": [
    "# Data preprocessing\n",
    "# import train and test to DataFrame\n",
    "import pandas as pd\n",
    "train = pd.read_csv(\"/kaggle/input/house-prices-advanced-regression-techniques/train.csv\")\n",
    "test = pd.read_csv(\"/kaggle/input/house-prices-advanced-regression-techniques/test.csv\")\n",
    "# 輸出訓練資料的資料量\n",
    "print('train shape:', train.shape) \n",
    "# 輸出測試資料的資料量\n",
    "print('test shape:', test.shape) "
   ]
  },
  {
   "cell_type": "markdown",
   "id": "2cf2f7f0",
   "metadata": {
    "papermill": {
     "duration": 0.006888,
     "end_time": "2023-01-13T17:42:49.338841",
     "exception": false,
     "start_time": "2023-01-13T17:42:49.331953",
     "status": "completed"
    },
    "tags": []
   },
   "source": [
    "* train shape: (1460, 81)\n",
    "    * 80 features+ SalePrice (one label)\n",
    "* test shape: (1459, 80)\n",
    "    * 80 features, without SalePrice (need to predict)"
   ]
  },
  {
   "cell_type": "code",
   "execution_count": 3,
   "id": "9ec0d2e9",
   "metadata": {
    "execution": {
     "iopub.execute_input": "2023-01-13T17:42:49.355155Z",
     "iopub.status.busy": "2023-01-13T17:42:49.354681Z",
     "iopub.status.idle": "2023-01-13T17:42:49.398414Z",
     "shell.execute_reply": "2023-01-13T17:42:49.395810Z"
    },
    "papermill": {
     "duration": 0.056019,
     "end_time": "2023-01-13T17:42:49.402109",
     "exception": false,
     "start_time": "2023-01-13T17:42:49.346090",
     "status": "completed"
    },
    "tags": []
   },
   "outputs": [
    {
     "name": "stdout",
     "output_type": "stream",
     "text": [
      "<class 'pandas.core.frame.DataFrame'>\n",
      "RangeIndex: 1460 entries, 0 to 1459\n",
      "Data columns (total 81 columns):\n",
      " #   Column         Non-Null Count  Dtype  \n",
      "---  ------         --------------  -----  \n",
      " 0   Id             1460 non-null   int64  \n",
      " 1   MSSubClass     1460 non-null   int64  \n",
      " 2   MSZoning       1460 non-null   object \n",
      " 3   LotFrontage    1201 non-null   float64\n",
      " 4   LotArea        1460 non-null   int64  \n",
      " 5   Street         1460 non-null   object \n",
      " 6   Alley          91 non-null     object \n",
      " 7   LotShape       1460 non-null   object \n",
      " 8   LandContour    1460 non-null   object \n",
      " 9   Utilities      1460 non-null   object \n",
      " 10  LotConfig      1460 non-null   object \n",
      " 11  LandSlope      1460 non-null   object \n",
      " 12  Neighborhood   1460 non-null   object \n",
      " 13  Condition1     1460 non-null   object \n",
      " 14  Condition2     1460 non-null   object \n",
      " 15  BldgType       1460 non-null   object \n",
      " 16  HouseStyle     1460 non-null   object \n",
      " 17  OverallQual    1460 non-null   int64  \n",
      " 18  OverallCond    1460 non-null   int64  \n",
      " 19  YearBuilt      1460 non-null   int64  \n",
      " 20  YearRemodAdd   1460 non-null   int64  \n",
      " 21  RoofStyle      1460 non-null   object \n",
      " 22  RoofMatl       1460 non-null   object \n",
      " 23  Exterior1st    1460 non-null   object \n",
      " 24  Exterior2nd    1460 non-null   object \n",
      " 25  MasVnrType     1452 non-null   object \n",
      " 26  MasVnrArea     1452 non-null   float64\n",
      " 27  ExterQual      1460 non-null   object \n",
      " 28  ExterCond      1460 non-null   object \n",
      " 29  Foundation     1460 non-null   object \n",
      " 30  BsmtQual       1423 non-null   object \n",
      " 31  BsmtCond       1423 non-null   object \n",
      " 32  BsmtExposure   1422 non-null   object \n",
      " 33  BsmtFinType1   1423 non-null   object \n",
      " 34  BsmtFinSF1     1460 non-null   int64  \n",
      " 35  BsmtFinType2   1422 non-null   object \n",
      " 36  BsmtFinSF2     1460 non-null   int64  \n",
      " 37  BsmtUnfSF      1460 non-null   int64  \n",
      " 38  TotalBsmtSF    1460 non-null   int64  \n",
      " 39  Heating        1460 non-null   object \n",
      " 40  HeatingQC      1460 non-null   object \n",
      " 41  CentralAir     1460 non-null   object \n",
      " 42  Electrical     1459 non-null   object \n",
      " 43  1stFlrSF       1460 non-null   int64  \n",
      " 44  2ndFlrSF       1460 non-null   int64  \n",
      " 45  LowQualFinSF   1460 non-null   int64  \n",
      " 46  GrLivArea      1460 non-null   int64  \n",
      " 47  BsmtFullBath   1460 non-null   int64  \n",
      " 48  BsmtHalfBath   1460 non-null   int64  \n",
      " 49  FullBath       1460 non-null   int64  \n",
      " 50  HalfBath       1460 non-null   int64  \n",
      " 51  BedroomAbvGr   1460 non-null   int64  \n",
      " 52  KitchenAbvGr   1460 non-null   int64  \n",
      " 53  KitchenQual    1460 non-null   object \n",
      " 54  TotRmsAbvGrd   1460 non-null   int64  \n",
      " 55  Functional     1460 non-null   object \n",
      " 56  Fireplaces     1460 non-null   int64  \n",
      " 57  FireplaceQu    770 non-null    object \n",
      " 58  GarageType     1379 non-null   object \n",
      " 59  GarageYrBlt    1379 non-null   float64\n",
      " 60  GarageFinish   1379 non-null   object \n",
      " 61  GarageCars     1460 non-null   int64  \n",
      " 62  GarageArea     1460 non-null   int64  \n",
      " 63  GarageQual     1379 non-null   object \n",
      " 64  GarageCond     1379 non-null   object \n",
      " 65  PavedDrive     1460 non-null   object \n",
      " 66  WoodDeckSF     1460 non-null   int64  \n",
      " 67  OpenPorchSF    1460 non-null   int64  \n",
      " 68  EnclosedPorch  1460 non-null   int64  \n",
      " 69  3SsnPorch      1460 non-null   int64  \n",
      " 70  ScreenPorch    1460 non-null   int64  \n",
      " 71  PoolArea       1460 non-null   int64  \n",
      " 72  PoolQC         7 non-null      object \n",
      " 73  Fence          281 non-null    object \n",
      " 74  MiscFeature    54 non-null     object \n",
      " 75  MiscVal        1460 non-null   int64  \n",
      " 76  MoSold         1460 non-null   int64  \n",
      " 77  YrSold         1460 non-null   int64  \n",
      " 78  SaleType       1460 non-null   object \n",
      " 79  SaleCondition  1460 non-null   object \n",
      " 80  SalePrice      1460 non-null   int64  \n",
      "dtypes: float64(3), int64(35), object(43)\n",
      "memory usage: 924.0+ KB\n"
     ]
    }
   ],
   "source": [
    "# 輸出訓練資料的資訊\n",
    "train.info()\n"
   ]
  },
  {
   "cell_type": "markdown",
   "id": "8d5dd839",
   "metadata": {
    "papermill": {
     "duration": 0.007203,
     "end_time": "2023-01-13T17:42:49.416834",
     "exception": false,
     "start_time": "2023-01-13T17:42:49.409631",
     "status": "completed"
    },
    "tags": []
   },
   "source": [
    "- Non-Null Count are not all 1460 non-null\n",
    "- 有missing values"
   ]
  },
  {
   "cell_type": "markdown",
   "id": "70a319b7",
   "metadata": {
    "papermill": {
     "duration": 0.006824,
     "end_time": "2023-01-13T17:42:49.430904",
     "exception": false,
     "start_time": "2023-01-13T17:42:49.424080",
     "status": "completed"
    },
    "tags": []
   },
   "source": []
  },
  {
   "cell_type": "code",
   "execution_count": 4,
   "id": "721efccf",
   "metadata": {
    "execution": {
     "iopub.execute_input": "2023-01-13T17:42:49.447636Z",
     "iopub.status.busy": "2023-01-13T17:42:49.447077Z",
     "iopub.status.idle": "2023-01-13T17:42:51.039808Z",
     "shell.execute_reply": "2023-01-13T17:42:51.038391Z"
    },
    "papermill": {
     "duration": 1.604499,
     "end_time": "2023-01-13T17:42:51.042607",
     "exception": false,
     "start_time": "2023-01-13T17:42:49.438108",
     "status": "completed"
    },
    "tags": []
   },
   "outputs": [
    {
     "name": "stdout",
     "output_type": "stream",
     "text": [
      "       price  log(price + 1)\n",
      "0     208500       12.247699\n",
      "1     181500       12.109016\n",
      "2     223500       12.317171\n",
      "3     140000       11.849405\n",
      "4     250000       12.429220\n",
      "...      ...             ...\n",
      "1455  175000       12.072547\n",
      "1456  210000       12.254868\n",
      "1457  266500       12.493133\n",
      "1458  142125       11.864469\n",
      "1459  147500       11.901590\n",
      "\n",
      "[1460 rows x 2 columns] \n",
      "\n",
      "price skew : 1.880940746034036\n",
      "log(price+1) skew: 0.12122191311528363\n"
     ]
    },
    {
     "data": {
      "text/plain": [
       "array([[<AxesSubplot:title={'center':'price'}>,\n",
       "        <AxesSubplot:title={'center':'log(price + 1)'}>]], dtype=object)"
      ]
     },
     "execution_count": 4,
     "metadata": {},
     "output_type": "execute_result"
    },
    {
     "data": {
      "image/png": "[encoded data removed]",
      "text/plain": [
       "<Figure size 864x432 with 2 Axes>"
      ]
     },
     "metadata": {
      "needs_background": "light"
     },
     "output_type": "display_data"
    }
   ],
   "source": [
    "import numpy as np\n",
    "import matplotlib.pyplot as plt\n",
    "from scipy.stats import skew\n",
    "%matplotlib inline\n",
    "\n",
    "#房屋銷售價格分布狀態偏低價位，透過對數轉換，讓資料分布趨近常態分佈\n",
    "# 對SalePrice+1後執行以e為底數的對數變換\n",
    "# 將原始值一同登錄至資料框架中\n",
    "prices = pd.DataFrame({'price':train['SalePrice'],\n",
    "    'log(price + 1)':np.log1p(train['SalePrice'])})\n",
    "# log1p :=  log(x+1) 　　即 ln(x+1)\n",
    "#使用Numpy的np.log1p(x)，以e為底數的x+1對數，來進行對數轉換\n",
    "#由於房價通常不是負數，但可能為0，所以使用np.log1p(x)來解決log(0)的問題\n",
    "\n",
    "print(prices, '\\n')\n",
    "# 輸出對數變換後的'price'的偏度\n",
    "print('price skew :', skew(prices['price']))\n",
    "print('log(price+1) skew:', skew(prices['log(price + 1)']))\n",
    "# 將變換前與變換後的\"SalePrice\"做成直方圖\n",
    "# 設定描繪圖型的尺寸\n",
    "plt.rcParams['figure.figsize'] = (12.0, 6.0)\n",
    "prices.hist()"
   ]
  },
  {
   "cell_type": "markdown",
   "id": "f5c4a166",
   "metadata": {
    "papermill": {
     "duration": 0.007265,
     "end_time": "2023-01-13T17:42:51.059470",
     "exception": false,
     "start_time": "2023-01-13T17:42:51.052205",
     "status": "completed"
    },
    "tags": []
   },
   "source": [
    "- price skew : 1.880940746034036\n",
    "\n",
    "- log(price+1) skew: 0.12122191311528363\n",
    "-skewness用來判斷分佈呈現不對稱性的程度，越接近為零就表示呈現的樣貌越接近左右對稱的常態分佈"
   ]
  },
  {
   "cell_type": "code",
   "execution_count": 5,
   "id": "b7df1a71",
   "metadata": {
    "execution": {
     "iopub.execute_input": "2023-01-13T17:42:51.077407Z",
     "iopub.status.busy": "2023-01-13T17:42:51.076964Z",
     "iopub.status.idle": "2023-01-13T17:42:51.086905Z",
     "shell.execute_reply": "2023-01-13T17:42:51.085283Z"
    },
    "papermill": {
     "duration": 0.023781,
     "end_time": "2023-01-13T17:42:51.090938",
     "exception": false,
     "start_time": "2023-01-13T17:42:51.067157",
     "status": "completed"
    },
    "tags": []
   },
   "outputs": [
    {
     "name": "stdout",
     "output_type": "stream",
     "text": [
      "0       12.247699\n",
      "1       12.109016\n",
      "2       12.317171\n",
      "3       11.849405\n",
      "4       12.429220\n",
      "          ...    \n",
      "1455    12.072547\n",
      "1456    12.254868\n",
      "1457    12.493133\n",
      "1458    11.864469\n",
      "1459    11.901590\n",
      "Name: SalePrice, Length: 1460, dtype: float64\n"
     ]
    }
   ],
   "source": [
    "#將SalePrice轉換成以e為底數的x+1對數然後存回去\n",
    "train[\"SalePrice\"] = np.log1p(train[\"SalePrice\"])\n",
    "print(train[\"SalePrice\"])"
   ]
  },
  {
   "cell_type": "code",
   "execution_count": 6,
   "id": "3085cfa8",
   "metadata": {
    "execution": {
     "iopub.execute_input": "2023-01-13T17:42:51.109542Z",
     "iopub.status.busy": "2023-01-13T17:42:51.109128Z",
     "iopub.status.idle": "2023-01-13T17:42:51.145962Z",
     "shell.execute_reply": "2023-01-13T17:42:51.144601Z"
    },
    "papermill": {
     "duration": 0.049047,
     "end_time": "2023-01-13T17:42:51.148923",
     "exception": false,
     "start_time": "2023-01-13T17:42:51.099876",
     "status": "completed"
    },
    "tags": []
   },
   "outputs": [
    {
     "name": "stdout",
     "output_type": "stream",
     "text": [
      "(2919, 79)\n",
      "      MSSubClass MSZoning  LotFrontage  LotArea Street Alley LotShape  \\\n",
      "0             60       RL         65.0     8450   Pave   NaN      Reg   \n",
      "1             20       RL         80.0     9600   Pave   NaN      Reg   \n",
      "2             60       RL         68.0    11250   Pave   NaN      IR1   \n",
      "3             70       RL         60.0     9550   Pave   NaN      IR1   \n",
      "4             60       RL         84.0    14260   Pave   NaN      IR1   \n",
      "...          ...      ...          ...      ...    ...   ...      ...   \n",
      "1454         160       RM         21.0     1936   Pave   NaN      Reg   \n",
      "1455         160       RM         21.0     1894   Pave   NaN      Reg   \n",
      "1456          20       RL        160.0    20000   Pave   NaN      Reg   \n",
      "1457          85       RL         62.0    10441   Pave   NaN      Reg   \n",
      "1458          60       RL         74.0     9627   Pave   NaN      Reg   \n",
      "\n",
      "     LandContour Utilities LotConfig  ... ScreenPorch PoolArea PoolQC  Fence  \\\n",
      "0            Lvl    AllPub    Inside  ...           0        0    NaN    NaN   \n",
      "1            Lvl    AllPub       FR2  ...           0        0    NaN    NaN   \n",
      "2            Lvl    AllPub    Inside  ...           0        0    NaN    NaN   \n",
      "3            Lvl    AllPub    Corner  ...           0        0    NaN    NaN   \n",
      "4            Lvl    AllPub       FR2  ...           0        0    NaN    NaN   \n",
      "...          ...       ...       ...  ...         ...      ...    ...    ...   \n",
      "1454         Lvl    AllPub    Inside  ...           0        0    NaN    NaN   \n",
      "1455         Lvl    AllPub    Inside  ...           0        0    NaN    NaN   \n",
      "1456         Lvl    AllPub    Inside  ...           0        0    NaN    NaN   \n",
      "1457         Lvl    AllPub    Inside  ...           0        0    NaN  MnPrv   \n",
      "1458         Lvl    AllPub    Inside  ...           0        0    NaN    NaN   \n",
      "\n",
      "     MiscFeature MiscVal  MoSold  YrSold  SaleType  SaleCondition  \n",
      "0            NaN       0       2    2008        WD         Normal  \n",
      "1            NaN       0       5    2007        WD         Normal  \n",
      "2            NaN       0       9    2008        WD         Normal  \n",
      "3            NaN       0       2    2006        WD        Abnorml  \n",
      "4            NaN       0      12    2008        WD         Normal  \n",
      "...          ...     ...     ...     ...       ...            ...  \n",
      "1454         NaN       0       6    2006        WD         Normal  \n",
      "1455         NaN       0       4    2006        WD        Abnorml  \n",
      "1456         NaN       0       9    2006        WD        Abnorml  \n",
      "1457        Shed     700       7    2006        WD         Normal  \n",
      "1458         NaN       0      11    2006        WD         Normal  \n",
      "\n",
      "[2919 rows x 79 columns]\n"
     ]
    }
   ],
   "source": [
    "#在預處理中，不需要id.SalePrice這兩行，排除這兩行進行連結，這樣可以一次完成資料預處理\n",
    "#loc用index的標籤來取出資料\n",
    "all_data = pd.concat((train.loc[:,'MSSubClass':'SaleCondition'],\n",
    "                      test.loc[:,'MSSubClass':'SaleCondition']))\n",
    "# 輸出完成連結的資料\n",
    "print(all_data.shape)\n",
    "print(all_data)"
   ]
  },
  {
   "cell_type": "code",
   "execution_count": 7,
   "id": "ed7f740b",
   "metadata": {
    "execution": {
     "iopub.execute_input": "2023-01-13T17:42:51.167571Z",
     "iopub.status.busy": "2023-01-13T17:42:51.166462Z",
     "iopub.status.idle": "2023-01-13T17:42:51.174977Z",
     "shell.execute_reply": "2023-01-13T17:42:51.173596Z"
    },
    "papermill": {
     "duration": 0.020945,
     "end_time": "2023-01-13T17:42:51.177897",
     "exception": false,
     "start_time": "2023-01-13T17:42:51.156952",
     "status": "completed"
    },
    "tags": []
   },
   "outputs": [
    {
     "name": "stdout",
     "output_type": "stream",
     "text": [
      "-----Column of non-object type-----\n",
      "Index(['MSSubClass', 'LotFrontage', 'LotArea', 'OverallQual', 'OverallCond',\n",
      "       'YearBuilt', 'YearRemodAdd', 'MasVnrArea', 'BsmtFinSF1', 'BsmtFinSF2',\n",
      "       'BsmtUnfSF', 'TotalBsmtSF', '1stFlrSF', '2ndFlrSF', 'LowQualFinSF',\n",
      "       'GrLivArea', 'BsmtFullBath', 'BsmtHalfBath', 'FullBath', 'HalfBath',\n",
      "       'BedroomAbvGr', 'KitchenAbvGr', 'TotRmsAbvGrd', 'Fireplaces',\n",
      "       'GarageYrBlt', 'GarageCars', 'GarageArea', 'WoodDeckSF', 'OpenPorchSF',\n",
      "       'EnclosedPorch', '3SsnPorch', 'ScreenPorch', 'PoolArea', 'MiscVal',\n",
      "       'MoSold', 'YrSold'],\n",
      "      dtype='object')\n"
     ]
    }
   ],
   "source": [
    "#if skewness>0.75就進行對數轉換\n",
    "\n",
    "from scipy.stats import skew\n",
    "# 取得非object類型的欄的index\n",
    "numeric_feats = all_data.dtypes[all_data.dtypes != \"object\"].index\n",
    "print('-----Column of non-object type-----')\n",
    "print(numeric_feats)"
   ]
  },
  {
   "cell_type": "code",
   "execution_count": 8,
   "id": "b1b65c8b",
   "metadata": {
    "execution": {
     "iopub.execute_input": "2023-01-13T17:42:51.196342Z",
     "iopub.status.busy": "2023-01-13T17:42:51.195536Z",
     "iopub.status.idle": "2023-01-13T17:42:51.218235Z",
     "shell.execute_reply": "2023-01-13T17:42:51.216002Z"
    },
    "papermill": {
     "duration": 0.035593,
     "end_time": "2023-01-13T17:42:51.221494",
     "exception": false,
     "start_time": "2023-01-13T17:42:51.185901",
     "status": "completed"
    },
    "tags": []
   },
   "outputs": [
    {
     "name": "stdout",
     "output_type": "stream",
     "text": [
      "-----Skewness of non-object type column-----\n",
      "MSSubClass        1.406210\n",
      "LotFrontage       2.160866\n",
      "LotArea          12.195142\n",
      "OverallQual       0.216721\n",
      "OverallCond       0.692355\n",
      "YearBuilt        -0.612831\n",
      "YearRemodAdd     -0.503044\n",
      "MasVnrArea        2.666326\n",
      "BsmtFinSF1        1.683771\n",
      "BsmtFinSF2        4.250888\n",
      "BsmtUnfSF         0.919323\n",
      "TotalBsmtSF       1.522688\n",
      "1stFlrSF          1.375342\n",
      "2ndFlrSF          0.812194\n",
      "LowQualFinSF      9.002080\n",
      "GrLivArea         1.365156\n",
      "BsmtFullBath      0.595454\n",
      "BsmtHalfBath      4.099186\n",
      "FullBath          0.036524\n",
      "HalfBath          0.675203\n",
      "BedroomAbvGr      0.211572\n",
      "KitchenAbvGr      4.483784\n",
      "TotRmsAbvGrd      0.675646\n",
      "Fireplaces        0.648898\n",
      "GarageYrBlt      -0.648708\n",
      "GarageCars       -0.342197\n",
      "GarageArea        0.179796\n",
      "WoodDeckSF        1.539792\n",
      "OpenPorchSF       2.361912\n",
      "EnclosedPorch     3.086696\n",
      "3SsnPorch        10.293752\n",
      "ScreenPorch       4.117977\n",
      "PoolArea         14.813135\n",
      "MiscVal          24.451640\n",
      "MoSold            0.211835\n",
      "YrSold            0.096170\n",
      "dtype: float64\n"
     ]
    }
   ],
   "source": [
    "# 除以缺漏值，求出非object類型的欄的偏度\n",
    "#dropna()方法-丢弃含空值的行、列\n",
    "skewed_feats = train[numeric_feats].apply(lambda x: skew(x.dropna()))\n",
    "print('-----Skewness of non-object type column-----')\n",
    "print(skewed_feats)"
   ]
  },
  {
   "cell_type": "code",
   "execution_count": 9,
   "id": "7d4e6a23",
   "metadata": {
    "execution": {
     "iopub.execute_input": "2023-01-13T17:42:51.239826Z",
     "iopub.status.busy": "2023-01-13T17:42:51.239379Z",
     "iopub.status.idle": "2023-01-13T17:42:51.248092Z",
     "shell.execute_reply": "2023-01-13T17:42:51.246474Z"
    },
    "papermill": {
     "duration": 0.022481,
     "end_time": "2023-01-13T17:42:51.252226",
     "exception": false,
     "start_time": "2023-01-13T17:42:51.229745",
     "status": "completed"
    },
    "tags": []
   },
   "outputs": [
    {
     "name": "stdout",
     "output_type": "stream",
     "text": [
      "-----Skewness greater than 0.75-----\n",
      "MSSubClass        1.406210\n",
      "LotFrontage       2.160866\n",
      "LotArea          12.195142\n",
      "MasVnrArea        2.666326\n",
      "BsmtFinSF1        1.683771\n",
      "BsmtFinSF2        4.250888\n",
      "BsmtUnfSF         0.919323\n",
      "TotalBsmtSF       1.522688\n",
      "1stFlrSF          1.375342\n",
      "2ndFlrSF          0.812194\n",
      "LowQualFinSF      9.002080\n",
      "GrLivArea         1.365156\n",
      "BsmtHalfBath      4.099186\n",
      "KitchenAbvGr      4.483784\n",
      "WoodDeckSF        1.539792\n",
      "OpenPorchSF       2.361912\n",
      "EnclosedPorch     3.086696\n",
      "3SsnPorch        10.293752\n",
      "ScreenPorch       4.117977\n",
      "PoolArea         14.813135\n",
      "MiscVal          24.451640\n",
      "dtype: float64\n"
     ]
    }
   ],
   "source": [
    "# 僅將偏度大於 0.75 的欄再帶入skewed_feats \n",
    "skewed_feats = skewed_feats[skewed_feats > 0.75]\n",
    "print('-----Skewness greater than 0.75-----')\n",
    "print(skewed_feats)"
   ]
  },
  {
   "cell_type": "code",
   "execution_count": 10,
   "id": "2344820b",
   "metadata": {
    "execution": {
     "iopub.execute_input": "2023-01-13T17:42:51.270691Z",
     "iopub.status.busy": "2023-01-13T17:42:51.270278Z",
     "iopub.status.idle": "2023-01-13T17:42:51.323458Z",
     "shell.execute_reply": "2023-01-13T17:42:51.322131Z"
    },
    "papermill": {
     "duration": 0.06573,
     "end_time": "2023-01-13T17:42:51.326318",
     "exception": false,
     "start_time": "2023-01-13T17:42:51.260588",
     "status": "completed"
    },
    "tags": []
   },
   "outputs": [
    {
     "data": {
      "text/html": [
       "<div>\n",
       "<style scoped>\n",
       "    .dataframe tbody tr th:only-of-type {\n",
       "        vertical-align: middle;\n",
       "    }\n",
       "\n",
       "    .dataframe tbody tr th {\n",
       "        vertical-align: top;\n",
       "    }\n",
       "\n",
       "    .dataframe thead th {\n",
       "        text-align: right;\n",
       "    }\n",
       "</style>\n",
       "<table border=\"1\" class=\"dataframe\">\n",
       "  <thead>\n",
       "    <tr style=\"text-align: right;\">\n",
       "      <th></th>\n",
       "      <th>MSSubClass</th>\n",
       "      <th>LotFrontage</th>\n",
       "      <th>LotArea</th>\n",
       "      <th>MasVnrArea</th>\n",
       "      <th>BsmtFinSF1</th>\n",
       "      <th>BsmtFinSF2</th>\n",
       "      <th>BsmtUnfSF</th>\n",
       "      <th>TotalBsmtSF</th>\n",
       "      <th>1stFlrSF</th>\n",
       "      <th>2ndFlrSF</th>\n",
       "      <th>...</th>\n",
       "      <th>GrLivArea</th>\n",
       "      <th>BsmtHalfBath</th>\n",
       "      <th>KitchenAbvGr</th>\n",
       "      <th>WoodDeckSF</th>\n",
       "      <th>OpenPorchSF</th>\n",
       "      <th>EnclosedPorch</th>\n",
       "      <th>3SsnPorch</th>\n",
       "      <th>ScreenPorch</th>\n",
       "      <th>PoolArea</th>\n",
       "      <th>MiscVal</th>\n",
       "    </tr>\n",
       "  </thead>\n",
       "  <tbody>\n",
       "    <tr>\n",
       "      <th>0</th>\n",
       "      <td>4.110874</td>\n",
       "      <td>4.189655</td>\n",
       "      <td>9.042040</td>\n",
       "      <td>5.283204</td>\n",
       "      <td>6.561031</td>\n",
       "      <td>0.0</td>\n",
       "      <td>5.017280</td>\n",
       "      <td>6.753438</td>\n",
       "      <td>6.753438</td>\n",
       "      <td>6.751101</td>\n",
       "      <td>...</td>\n",
       "      <td>7.444833</td>\n",
       "      <td>0.000000</td>\n",
       "      <td>0.693147</td>\n",
       "      <td>0.000000</td>\n",
       "      <td>4.127134</td>\n",
       "      <td>0.000000</td>\n",
       "      <td>0.0</td>\n",
       "      <td>0.0</td>\n",
       "      <td>0.0</td>\n",
       "      <td>0.000000</td>\n",
       "    </tr>\n",
       "    <tr>\n",
       "      <th>1</th>\n",
       "      <td>3.044522</td>\n",
       "      <td>4.394449</td>\n",
       "      <td>9.169623</td>\n",
       "      <td>0.000000</td>\n",
       "      <td>6.886532</td>\n",
       "      <td>0.0</td>\n",
       "      <td>5.652489</td>\n",
       "      <td>7.141245</td>\n",
       "      <td>7.141245</td>\n",
       "      <td>0.000000</td>\n",
       "      <td>...</td>\n",
       "      <td>7.141245</td>\n",
       "      <td>0.693147</td>\n",
       "      <td>0.693147</td>\n",
       "      <td>5.700444</td>\n",
       "      <td>0.000000</td>\n",
       "      <td>0.000000</td>\n",
       "      <td>0.0</td>\n",
       "      <td>0.0</td>\n",
       "      <td>0.0</td>\n",
       "      <td>0.000000</td>\n",
       "    </tr>\n",
       "    <tr>\n",
       "      <th>2</th>\n",
       "      <td>4.110874</td>\n",
       "      <td>4.234107</td>\n",
       "      <td>9.328212</td>\n",
       "      <td>5.093750</td>\n",
       "      <td>6.188264</td>\n",
       "      <td>0.0</td>\n",
       "      <td>6.075346</td>\n",
       "      <td>6.825460</td>\n",
       "      <td>6.825460</td>\n",
       "      <td>6.765039</td>\n",
       "      <td>...</td>\n",
       "      <td>7.488294</td>\n",
       "      <td>0.000000</td>\n",
       "      <td>0.693147</td>\n",
       "      <td>0.000000</td>\n",
       "      <td>3.761200</td>\n",
       "      <td>0.000000</td>\n",
       "      <td>0.0</td>\n",
       "      <td>0.0</td>\n",
       "      <td>0.0</td>\n",
       "      <td>0.000000</td>\n",
       "    </tr>\n",
       "    <tr>\n",
       "      <th>3</th>\n",
       "      <td>4.262680</td>\n",
       "      <td>4.110874</td>\n",
       "      <td>9.164401</td>\n",
       "      <td>0.000000</td>\n",
       "      <td>5.379897</td>\n",
       "      <td>0.0</td>\n",
       "      <td>6.293419</td>\n",
       "      <td>6.629363</td>\n",
       "      <td>6.869014</td>\n",
       "      <td>6.629363</td>\n",
       "      <td>...</td>\n",
       "      <td>7.448916</td>\n",
       "      <td>0.000000</td>\n",
       "      <td>0.693147</td>\n",
       "      <td>0.000000</td>\n",
       "      <td>3.583519</td>\n",
       "      <td>5.609472</td>\n",
       "      <td>0.0</td>\n",
       "      <td>0.0</td>\n",
       "      <td>0.0</td>\n",
       "      <td>0.000000</td>\n",
       "    </tr>\n",
       "    <tr>\n",
       "      <th>4</th>\n",
       "      <td>4.110874</td>\n",
       "      <td>4.442651</td>\n",
       "      <td>9.565284</td>\n",
       "      <td>5.860786</td>\n",
       "      <td>6.486161</td>\n",
       "      <td>0.0</td>\n",
       "      <td>6.196444</td>\n",
       "      <td>7.044033</td>\n",
       "      <td>7.044033</td>\n",
       "      <td>6.960348</td>\n",
       "      <td>...</td>\n",
       "      <td>7.695758</td>\n",
       "      <td>0.000000</td>\n",
       "      <td>0.693147</td>\n",
       "      <td>5.262690</td>\n",
       "      <td>4.442651</td>\n",
       "      <td>0.000000</td>\n",
       "      <td>0.0</td>\n",
       "      <td>0.0</td>\n",
       "      <td>0.0</td>\n",
       "      <td>0.000000</td>\n",
       "    </tr>\n",
       "    <tr>\n",
       "      <th>...</th>\n",
       "      <td>...</td>\n",
       "      <td>...</td>\n",
       "      <td>...</td>\n",
       "      <td>...</td>\n",
       "      <td>...</td>\n",
       "      <td>...</td>\n",
       "      <td>...</td>\n",
       "      <td>...</td>\n",
       "      <td>...</td>\n",
       "      <td>...</td>\n",
       "      <td>...</td>\n",
       "      <td>...</td>\n",
       "      <td>...</td>\n",
       "      <td>...</td>\n",
       "      <td>...</td>\n",
       "      <td>...</td>\n",
       "      <td>...</td>\n",
       "      <td>...</td>\n",
       "      <td>...</td>\n",
       "      <td>...</td>\n",
       "      <td>...</td>\n",
       "    </tr>\n",
       "    <tr>\n",
       "      <th>1454</th>\n",
       "      <td>5.081404</td>\n",
       "      <td>3.091042</td>\n",
       "      <td>7.568896</td>\n",
       "      <td>0.000000</td>\n",
       "      <td>0.000000</td>\n",
       "      <td>0.0</td>\n",
       "      <td>6.304449</td>\n",
       "      <td>6.304449</td>\n",
       "      <td>6.304449</td>\n",
       "      <td>6.304449</td>\n",
       "      <td>...</td>\n",
       "      <td>6.996681</td>\n",
       "      <td>0.000000</td>\n",
       "      <td>0.693147</td>\n",
       "      <td>0.000000</td>\n",
       "      <td>0.000000</td>\n",
       "      <td>0.000000</td>\n",
       "      <td>0.0</td>\n",
       "      <td>0.0</td>\n",
       "      <td>0.0</td>\n",
       "      <td>0.000000</td>\n",
       "    </tr>\n",
       "    <tr>\n",
       "      <th>1455</th>\n",
       "      <td>5.081404</td>\n",
       "      <td>3.091042</td>\n",
       "      <td>7.546974</td>\n",
       "      <td>0.000000</td>\n",
       "      <td>5.533389</td>\n",
       "      <td>0.0</td>\n",
       "      <td>5.686975</td>\n",
       "      <td>6.304449</td>\n",
       "      <td>6.304449</td>\n",
       "      <td>6.304449</td>\n",
       "      <td>...</td>\n",
       "      <td>6.996681</td>\n",
       "      <td>0.000000</td>\n",
       "      <td>0.693147</td>\n",
       "      <td>0.000000</td>\n",
       "      <td>3.218876</td>\n",
       "      <td>0.000000</td>\n",
       "      <td>0.0</td>\n",
       "      <td>0.0</td>\n",
       "      <td>0.0</td>\n",
       "      <td>0.000000</td>\n",
       "    </tr>\n",
       "    <tr>\n",
       "      <th>1456</th>\n",
       "      <td>3.044522</td>\n",
       "      <td>5.081404</td>\n",
       "      <td>9.903538</td>\n",
       "      <td>0.000000</td>\n",
       "      <td>7.110696</td>\n",
       "      <td>0.0</td>\n",
       "      <td>0.000000</td>\n",
       "      <td>7.110696</td>\n",
       "      <td>7.110696</td>\n",
       "      <td>0.000000</td>\n",
       "      <td>...</td>\n",
       "      <td>7.110696</td>\n",
       "      <td>0.000000</td>\n",
       "      <td>0.693147</td>\n",
       "      <td>6.163315</td>\n",
       "      <td>0.000000</td>\n",
       "      <td>0.000000</td>\n",
       "      <td>0.0</td>\n",
       "      <td>0.0</td>\n",
       "      <td>0.0</td>\n",
       "      <td>0.000000</td>\n",
       "    </tr>\n",
       "    <tr>\n",
       "      <th>1457</th>\n",
       "      <td>4.454347</td>\n",
       "      <td>4.143135</td>\n",
       "      <td>9.253591</td>\n",
       "      <td>0.000000</td>\n",
       "      <td>5.823046</td>\n",
       "      <td>0.0</td>\n",
       "      <td>6.356108</td>\n",
       "      <td>6.816736</td>\n",
       "      <td>6.878326</td>\n",
       "      <td>0.000000</td>\n",
       "      <td>...</td>\n",
       "      <td>6.878326</td>\n",
       "      <td>0.693147</td>\n",
       "      <td>0.693147</td>\n",
       "      <td>4.394449</td>\n",
       "      <td>3.496508</td>\n",
       "      <td>0.000000</td>\n",
       "      <td>0.0</td>\n",
       "      <td>0.0</td>\n",
       "      <td>0.0</td>\n",
       "      <td>6.552508</td>\n",
       "    </tr>\n",
       "    <tr>\n",
       "      <th>1458</th>\n",
       "      <td>4.110874</td>\n",
       "      <td>4.317488</td>\n",
       "      <td>9.172431</td>\n",
       "      <td>4.553877</td>\n",
       "      <td>6.632002</td>\n",
       "      <td>0.0</td>\n",
       "      <td>5.476464</td>\n",
       "      <td>6.904751</td>\n",
       "      <td>6.904751</td>\n",
       "      <td>6.912743</td>\n",
       "      <td>...</td>\n",
       "      <td>7.601402</td>\n",
       "      <td>0.000000</td>\n",
       "      <td>0.693147</td>\n",
       "      <td>5.252273</td>\n",
       "      <td>3.891820</td>\n",
       "      <td>0.000000</td>\n",
       "      <td>0.0</td>\n",
       "      <td>0.0</td>\n",
       "      <td>0.0</td>\n",
       "      <td>0.000000</td>\n",
       "    </tr>\n",
       "  </tbody>\n",
       "</table>\n",
       "<p>2919 rows × 21 columns</p>\n",
       "</div>"
      ],
      "text/plain": [
       "      MSSubClass  LotFrontage   LotArea  MasVnrArea  BsmtFinSF1  BsmtFinSF2  \\\n",
       "0       4.110874     4.189655  9.042040    5.283204    6.561031         0.0   \n",
       "1       3.044522     4.394449  9.169623    0.000000    6.886532         0.0   \n",
       "2       4.110874     4.234107  9.328212    5.093750    6.188264         0.0   \n",
       "3       4.262680     4.110874  9.164401    0.000000    5.379897         0.0   \n",
       "4       4.110874     4.442651  9.565284    5.860786    6.486161         0.0   \n",
       "...          ...          ...       ...         ...         ...         ...   \n",
       "1454    5.081404     3.091042  7.568896    0.000000    0.000000         0.0   \n",
       "1455    5.081404     3.091042  7.546974    0.000000    5.533389         0.0   \n",
       "1456    3.044522     5.081404  9.903538    0.000000    7.110696         0.0   \n",
       "1457    4.454347     4.143135  9.253591    0.000000    5.823046         0.0   \n",
       "1458    4.110874     4.317488  9.172431    4.553877    6.632002         0.0   \n",
       "\n",
       "      BsmtUnfSF  TotalBsmtSF  1stFlrSF  2ndFlrSF  ...  GrLivArea  \\\n",
       "0      5.017280     6.753438  6.753438  6.751101  ...   7.444833   \n",
       "1      5.652489     7.141245  7.141245  0.000000  ...   7.141245   \n",
       "2      6.075346     6.825460  6.825460  6.765039  ...   7.488294   \n",
       "3      6.293419     6.629363  6.869014  6.629363  ...   7.448916   \n",
       "4      6.196444     7.044033  7.044033  6.960348  ...   7.695758   \n",
       "...         ...          ...       ...       ...  ...        ...   \n",
       "1454   6.304449     6.304449  6.304449  6.304449  ...   6.996681   \n",
       "1455   5.686975     6.304449  6.304449  6.304449  ...   6.996681   \n",
       "1456   0.000000     7.110696  7.110696  0.000000  ...   7.110696   \n",
       "1457   6.356108     6.816736  6.878326  0.000000  ...   6.878326   \n",
       "1458   5.476464     6.904751  6.904751  6.912743  ...   7.601402   \n",
       "\n",
       "      BsmtHalfBath  KitchenAbvGr  WoodDeckSF  OpenPorchSF  EnclosedPorch  \\\n",
       "0         0.000000      0.693147    0.000000     4.127134       0.000000   \n",
       "1         0.693147      0.693147    5.700444     0.000000       0.000000   \n",
       "2         0.000000      0.693147    0.000000     3.761200       0.000000   \n",
       "3         0.000000      0.693147    0.000000     3.583519       5.609472   \n",
       "4         0.000000      0.693147    5.262690     4.442651       0.000000   \n",
       "...            ...           ...         ...          ...            ...   \n",
       "1454      0.000000      0.693147    0.000000     0.000000       0.000000   \n",
       "1455      0.000000      0.693147    0.000000     3.218876       0.000000   \n",
       "1456      0.000000      0.693147    6.163315     0.000000       0.000000   \n",
       "1457      0.693147      0.693147    4.394449     3.496508       0.000000   \n",
       "1458      0.000000      0.693147    5.252273     3.891820       0.000000   \n",
       "\n",
       "      3SsnPorch  ScreenPorch  PoolArea   MiscVal  \n",
       "0           0.0          0.0       0.0  0.000000  \n",
       "1           0.0          0.0       0.0  0.000000  \n",
       "2           0.0          0.0       0.0  0.000000  \n",
       "3           0.0          0.0       0.0  0.000000  \n",
       "4           0.0          0.0       0.0  0.000000  \n",
       "...         ...          ...       ...       ...  \n",
       "1454        0.0          0.0       0.0  0.000000  \n",
       "1455        0.0          0.0       0.0  0.000000  \n",
       "1456        0.0          0.0       0.0  0.000000  \n",
       "1457        0.0          0.0       0.0  6.552508  \n",
       "1458        0.0          0.0       0.0  0.000000  \n",
       "\n",
       "[2919 rows x 21 columns]"
      ]
     },
     "execution_count": 10,
     "metadata": {},
     "output_type": "execute_result"
    }
   ],
   "source": [
    "# 取得所選出的欄的index\n",
    "skewed_feats = skewed_feats.index\n",
    "# 將偏度大於0.75的欄進行對數變換\n",
    "all_data[skewed_feats] = np.log1p(all_data[skewed_feats])\n",
    "all_data[skewed_feats] # 對偏度大於0.75 的欄執行對數變換後，進行輸出"
   ]
  },
  {
   "cell_type": "code",
   "execution_count": 11,
   "id": "f08be266",
   "metadata": {
    "execution": {
     "iopub.execute_input": "2023-01-13T17:42:51.346265Z",
     "iopub.status.busy": "2023-01-13T17:42:51.345853Z",
     "iopub.status.idle": "2023-01-13T17:42:51.363655Z",
     "shell.execute_reply": "2023-01-13T17:42:51.362270Z"
    },
    "papermill": {
     "duration": 0.031193,
     "end_time": "2023-01-13T17:42:51.366490",
     "exception": false,
     "start_time": "2023-01-13T17:42:51.335297",
     "status": "completed"
    },
    "tags": []
   },
   "outputs": [
    {
     "data": {
      "text/html": [
       "<div>\n",
       "<style scoped>\n",
       "    .dataframe tbody tr th:only-of-type {\n",
       "        vertical-align: middle;\n",
       "    }\n",
       "\n",
       "    .dataframe tbody tr th {\n",
       "        vertical-align: top;\n",
       "    }\n",
       "\n",
       "    .dataframe thead th {\n",
       "        text-align: right;\n",
       "    }\n",
       "</style>\n",
       "<table border=\"1\" class=\"dataframe\">\n",
       "  <thead>\n",
       "    <tr style=\"text-align: right;\">\n",
       "      <th></th>\n",
       "      <th>IR1</th>\n",
       "      <th>IR2</th>\n",
       "      <th>IR3</th>\n",
       "      <th>Reg</th>\n",
       "      <th>LotShape</th>\n",
       "    </tr>\n",
       "  </thead>\n",
       "  <tbody>\n",
       "    <tr>\n",
       "      <th>0</th>\n",
       "      <td>0</td>\n",
       "      <td>0</td>\n",
       "      <td>0</td>\n",
       "      <td>1</td>\n",
       "      <td>Reg</td>\n",
       "    </tr>\n",
       "    <tr>\n",
       "      <th>1</th>\n",
       "      <td>0</td>\n",
       "      <td>0</td>\n",
       "      <td>0</td>\n",
       "      <td>1</td>\n",
       "      <td>Reg</td>\n",
       "    </tr>\n",
       "    <tr>\n",
       "      <th>2</th>\n",
       "      <td>1</td>\n",
       "      <td>0</td>\n",
       "      <td>0</td>\n",
       "      <td>0</td>\n",
       "      <td>IR1</td>\n",
       "    </tr>\n",
       "    <tr>\n",
       "      <th>3</th>\n",
       "      <td>1</td>\n",
       "      <td>0</td>\n",
       "      <td>0</td>\n",
       "      <td>0</td>\n",
       "      <td>IR1</td>\n",
       "    </tr>\n",
       "    <tr>\n",
       "      <th>4</th>\n",
       "      <td>1</td>\n",
       "      <td>0</td>\n",
       "      <td>0</td>\n",
       "      <td>0</td>\n",
       "      <td>IR1</td>\n",
       "    </tr>\n",
       "    <tr>\n",
       "      <th>5</th>\n",
       "      <td>1</td>\n",
       "      <td>0</td>\n",
       "      <td>0</td>\n",
       "      <td>0</td>\n",
       "      <td>IR1</td>\n",
       "    </tr>\n",
       "    <tr>\n",
       "      <th>6</th>\n",
       "      <td>0</td>\n",
       "      <td>0</td>\n",
       "      <td>0</td>\n",
       "      <td>1</td>\n",
       "      <td>Reg</td>\n",
       "    </tr>\n",
       "    <tr>\n",
       "      <th>7</th>\n",
       "      <td>1</td>\n",
       "      <td>0</td>\n",
       "      <td>0</td>\n",
       "      <td>0</td>\n",
       "      <td>IR1</td>\n",
       "    </tr>\n",
       "    <tr>\n",
       "      <th>8</th>\n",
       "      <td>0</td>\n",
       "      <td>0</td>\n",
       "      <td>0</td>\n",
       "      <td>1</td>\n",
       "      <td>Reg</td>\n",
       "    </tr>\n",
       "    <tr>\n",
       "      <th>9</th>\n",
       "      <td>0</td>\n",
       "      <td>0</td>\n",
       "      <td>0</td>\n",
       "      <td>1</td>\n",
       "      <td>Reg</td>\n",
       "    </tr>\n",
       "    <tr>\n",
       "      <th>10</th>\n",
       "      <td>0</td>\n",
       "      <td>0</td>\n",
       "      <td>0</td>\n",
       "      <td>1</td>\n",
       "      <td>Reg</td>\n",
       "    </tr>\n",
       "    <tr>\n",
       "      <th>11</th>\n",
       "      <td>1</td>\n",
       "      <td>0</td>\n",
       "      <td>0</td>\n",
       "      <td>0</td>\n",
       "      <td>IR1</td>\n",
       "    </tr>\n",
       "    <tr>\n",
       "      <th>12</th>\n",
       "      <td>0</td>\n",
       "      <td>1</td>\n",
       "      <td>0</td>\n",
       "      <td>0</td>\n",
       "      <td>IR2</td>\n",
       "    </tr>\n",
       "    <tr>\n",
       "      <th>13</th>\n",
       "      <td>1</td>\n",
       "      <td>0</td>\n",
       "      <td>0</td>\n",
       "      <td>0</td>\n",
       "      <td>IR1</td>\n",
       "    </tr>\n",
       "    <tr>\n",
       "      <th>14</th>\n",
       "      <td>1</td>\n",
       "      <td>0</td>\n",
       "      <td>0</td>\n",
       "      <td>0</td>\n",
       "      <td>IR1</td>\n",
       "    </tr>\n",
       "    <tr>\n",
       "      <th>15</th>\n",
       "      <td>0</td>\n",
       "      <td>0</td>\n",
       "      <td>0</td>\n",
       "      <td>1</td>\n",
       "      <td>Reg</td>\n",
       "    </tr>\n",
       "    <tr>\n",
       "      <th>16</th>\n",
       "      <td>1</td>\n",
       "      <td>0</td>\n",
       "      <td>0</td>\n",
       "      <td>0</td>\n",
       "      <td>IR1</td>\n",
       "    </tr>\n",
       "    <tr>\n",
       "      <th>17</th>\n",
       "      <td>0</td>\n",
       "      <td>0</td>\n",
       "      <td>0</td>\n",
       "      <td>1</td>\n",
       "      <td>Reg</td>\n",
       "    </tr>\n",
       "    <tr>\n",
       "      <th>18</th>\n",
       "      <td>0</td>\n",
       "      <td>0</td>\n",
       "      <td>0</td>\n",
       "      <td>1</td>\n",
       "      <td>Reg</td>\n",
       "    </tr>\n",
       "    <tr>\n",
       "      <th>19</th>\n",
       "      <td>0</td>\n",
       "      <td>0</td>\n",
       "      <td>0</td>\n",
       "      <td>1</td>\n",
       "      <td>Reg</td>\n",
       "    </tr>\n",
       "  </tbody>\n",
       "</table>\n",
       "</div>"
      ],
      "text/plain": [
       "    IR1  IR2  IR3  Reg LotShape\n",
       "0     0    0    0    1      Reg\n",
       "1     0    0    0    1      Reg\n",
       "2     1    0    0    0      IR1\n",
       "3     1    0    0    0      IR1\n",
       "4     1    0    0    0      IR1\n",
       "5     1    0    0    0      IR1\n",
       "6     0    0    0    1      Reg\n",
       "7     1    0    0    0      IR1\n",
       "8     0    0    0    1      Reg\n",
       "9     0    0    0    1      Reg\n",
       "10    0    0    0    1      Reg\n",
       "11    1    0    0    0      IR1\n",
       "12    0    1    0    0      IR2\n",
       "13    1    0    0    0      IR1\n",
       "14    1    0    0    0      IR1\n",
       "15    0    0    0    1      Reg\n",
       "16    1    0    0    0      IR1\n",
       "17    0    0    0    1      Reg\n",
       "18    0    0    0    1      Reg\n",
       "19    0    0    0    1      Reg"
      ]
     },
     "execution_count": 11,
     "metadata": {},
     "output_type": "execute_result"
    }
   ],
   "source": [
    "#One-Hot encoding轉換類別變數\n",
    "#編碼後產生的Dummy Variable只有0或1兩種數值\n",
    "cc_data = pd.get_dummies(train['LotShape'])\n",
    "# 新增原本的 'LotShape'\n",
    "cc_data['LotShape'] = train['LotShape']\n",
    "# 輸出20 列\n",
    "cc_data[:20]\n",
    "#print(train['LotShape'])"
   ]
  },
  {
   "cell_type": "code",
   "execution_count": 12,
   "id": "101ff50c",
   "metadata": {
    "execution": {
     "iopub.execute_input": "2023-01-13T17:42:51.386963Z",
     "iopub.status.busy": "2023-01-13T17:42:51.386525Z",
     "iopub.status.idle": "2023-01-13T17:42:51.460500Z",
     "shell.execute_reply": "2023-01-13T17:42:51.459518Z"
    },
    "papermill": {
     "duration": 0.087604,
     "end_time": "2023-01-13T17:42:51.463333",
     "exception": false,
     "start_time": "2023-01-13T17:42:51.375729",
     "status": "completed"
    },
    "tags": []
   },
   "outputs": [
    {
     "data": {
      "text/plain": [
       "<bound method NDFrame.head of       MSSubClass  LotFrontage   LotArea  OverallQual  OverallCond  YearBuilt  \\\n",
       "0       4.110874     4.189655  9.042040            7            5       2003   \n",
       "1       3.044522     4.394449  9.169623            6            8       1976   \n",
       "2       4.110874     4.234107  9.328212            7            5       2001   \n",
       "3       4.262680     4.110874  9.164401            7            5       1915   \n",
       "4       4.110874     4.442651  9.565284            8            5       2000   \n",
       "...          ...          ...       ...          ...          ...        ...   \n",
       "1454    5.081404     3.091042  7.568896            4            7       1970   \n",
       "1455    5.081404     3.091042  7.546974            4            5       1970   \n",
       "1456    3.044522     5.081404  9.903538            5            7       1960   \n",
       "1457    4.454347     4.143135  9.253591            5            5       1992   \n",
       "1458    4.110874     4.317488  9.172431            7            5       1993   \n",
       "\n",
       "      YearRemodAdd  MasVnrArea  BsmtFinSF1  BsmtFinSF2  ...  SaleType_ConLw  \\\n",
       "0             2003    5.283204    6.561031         0.0  ...               0   \n",
       "1             1976    0.000000    6.886532         0.0  ...               0   \n",
       "2             2002    5.093750    6.188264         0.0  ...               0   \n",
       "3             1970    0.000000    5.379897         0.0  ...               0   \n",
       "4             2000    5.860786    6.486161         0.0  ...               0   \n",
       "...            ...         ...         ...         ...  ...             ...   \n",
       "1454          1970    0.000000    0.000000         0.0  ...               0   \n",
       "1455          1970    0.000000    5.533389         0.0  ...               0   \n",
       "1456          1996    0.000000    7.110696         0.0  ...               0   \n",
       "1457          1992    0.000000    5.823046         0.0  ...               0   \n",
       "1458          1994    4.553877    6.632002         0.0  ...               0   \n",
       "\n",
       "      SaleType_New  SaleType_Oth  SaleType_WD  SaleCondition_Abnorml  \\\n",
       "0                0             0            1                      0   \n",
       "1                0             0            1                      0   \n",
       "2                0             0            1                      0   \n",
       "3                0             0            1                      1   \n",
       "4                0             0            1                      0   \n",
       "...            ...           ...          ...                    ...   \n",
       "1454             0             0            1                      0   \n",
       "1455             0             0            1                      1   \n",
       "1456             0             0            1                      1   \n",
       "1457             0             0            1                      0   \n",
       "1458             0             0            1                      0   \n",
       "\n",
       "      SaleCondition_AdjLand  SaleCondition_Alloca  SaleCondition_Family  \\\n",
       "0                         0                     0                     0   \n",
       "1                         0                     0                     0   \n",
       "2                         0                     0                     0   \n",
       "3                         0                     0                     0   \n",
       "4                         0                     0                     0   \n",
       "...                     ...                   ...                   ...   \n",
       "1454                      0                     0                     0   \n",
       "1455                      0                     0                     0   \n",
       "1456                      0                     0                     0   \n",
       "1457                      0                     0                     0   \n",
       "1458                      0                     0                     0   \n",
       "\n",
       "      SaleCondition_Normal  SaleCondition_Partial  \n",
       "0                        1                      0  \n",
       "1                        1                      0  \n",
       "2                        1                      0  \n",
       "3                        0                      0  \n",
       "4                        1                      0  \n",
       "...                    ...                    ...  \n",
       "1454                     1                      0  \n",
       "1455                     0                      0  \n",
       "1456                     0                      0  \n",
       "1457                     1                      0  \n",
       "1458                     1                      0  \n",
       "\n",
       "[2919 rows x 288 columns]>"
      ]
     },
     "execution_count": 12,
     "metadata": {},
     "output_type": "execute_result"
    }
   ],
   "source": [
    "#pd.get_dummies會自動偵測DataFrame中屬於類別變數的欄位，將其進行One-Hot encoding\n",
    "all_data = pd.get_dummies(all_data)\n",
    "all_data.head"
   ]
  },
  {
   "cell_type": "code",
   "execution_count": 13,
   "id": "b5ca95f4",
   "metadata": {
    "execution": {
     "iopub.execute_input": "2023-01-13T17:42:51.483784Z",
     "iopub.status.busy": "2023-01-13T17:42:51.483301Z",
     "iopub.status.idle": "2023-01-13T17:42:51.544188Z",
     "shell.execute_reply": "2023-01-13T17:42:51.542969Z"
    },
    "papermill": {
     "duration": 0.074513,
     "end_time": "2023-01-13T17:42:51.547135",
     "exception": false,
     "start_time": "2023-01-13T17:42:51.472622",
     "status": "completed"
    },
    "tags": []
   },
   "outputs": [],
   "source": [
    "#將呈現NaN的missing Values替換成平均值（從訓練資料中求取）\n",
    "all_data = all_data.fillna(all_data[:train.shape[0]].mean())"
   ]
  },
  {
   "cell_type": "code",
   "execution_count": 14,
   "id": "fa18ccb3",
   "metadata": {
    "execution": {
     "iopub.execute_input": "2023-01-13T17:42:51.568668Z",
     "iopub.status.busy": "2023-01-13T17:42:51.568211Z",
     "iopub.status.idle": "2023-01-13T17:42:51.574180Z",
     "shell.execute_reply": "2023-01-13T17:42:51.572851Z"
    },
    "papermill": {
     "duration": 0.020305,
     "end_time": "2023-01-13T17:42:51.577218",
     "exception": false,
     "start_time": "2023-01-13T17:42:51.556913",
     "status": "completed"
    },
    "tags": []
   },
   "outputs": [],
   "source": [
    "X_train = all_data[:train.shape[0]]\n",
    "X_test = all_data[train.shape[0]:]\n",
    "y = train.SalePrice"
   ]
  },
  {
   "cell_type": "code",
   "execution_count": 15,
   "id": "dd5d1473",
   "metadata": {
    "execution": {
     "iopub.execute_input": "2023-01-13T17:42:51.597775Z",
     "iopub.status.busy": "2023-01-13T17:42:51.597342Z",
     "iopub.status.idle": "2023-01-13T17:42:51.848418Z",
     "shell.execute_reply": "2023-01-13T17:42:51.847163Z"
    },
    "papermill": {
     "duration": 0.264804,
     "end_time": "2023-01-13T17:42:51.851292",
     "exception": false,
     "start_time": "2023-01-13T17:42:51.586488",
     "status": "completed"
    },
    "tags": []
   },
   "outputs": [],
   "source": [
    "from sklearn.model_selection import cross_val_score\n",
    "def rmse_cv(model):\n",
    "    \"\"\" 均方根誤差\n",
    "    Parameters:\n",
    "        model(obj): Model object\n",
    "    Returns:\n",
    "        (float) 訓練資料的輸出值與真實值的RMSE\n",
    "    \"\"\"\n",
    "    # 使用交叉驗證取得均方根誤差\n",
    "    rmse = np.sqrt(-cross_val_score(model, X_train, y,\n",
    "                   scoring=\"neg_mean_squared_error\", # 均方根誤差\n",
    "                   cv = 5)) # 將資料分為5份\n",
    "    return(rmse)"
   ]
  },
  {
   "cell_type": "code",
   "execution_count": 16,
   "id": "c4889958",
   "metadata": {
    "execution": {
     "iopub.execute_input": "2023-01-13T17:42:51.872429Z",
     "iopub.status.busy": "2023-01-13T17:42:51.871658Z",
     "iopub.status.idle": "2023-01-13T17:42:56.543696Z",
     "shell.execute_reply": "2023-01-13T17:42:56.542418Z"
    },
    "papermill": {
     "duration": 4.685783,
     "end_time": "2023-01-13T17:42:56.546334",
     "exception": false,
     "start_time": "2023-01-13T17:42:51.860551",
     "status": "completed"
    },
    "tags": []
   },
   "outputs": [
    {
     "name": "stdout",
     "output_type": "stream",
     "text": [
      "Ridge RMSE loss:\n",
      "0.05     0.138937\n",
      "0.10     0.137777\n",
      "0.50     0.133467\n",
      "1.00     0.131362\n",
      "5.00     0.127821\n",
      "10.00    0.127337\n",
      "15.00    0.127529\n",
      "30.00    0.128958\n",
      "50.00    0.130994\n",
      "75.00    0.133163\n",
      "dtype: float64 \n",
      "\n",
      "Ridge RMSE loss Mean:\n",
      "0.13173438128730294\n"
     ]
    },
    {
     "data": {
      "image/png": "[encoded data removed]",
      "text/plain": [
       "<Figure size 720x360 with 1 Axes>"
      ]
     },
     "metadata": {
      "needs_background": "light"
     },
     "output_type": "display_data"
    }
   ],
   "source": [
    "from sklearn.linear_model import Ridge\n",
    "\n",
    "# 建立Ridge迴歸模型\n",
    "model_ridge = Ridge()\n",
    "\n",
    "# 準備10種L2常規化強度\n",
    "alphas = [0.05, 0.1, 0.5, 1, 5, 10, 15, 30, 50, 75]\n",
    "# 在各個常規化的強度中執行Ridge迴歸\n",
    "# 將資料分割為5個部分進行交叉驗證，求出RMSE、並取得該平均值\n",
    "cv_ridge = [rmse_cv(Ridge(alpha = alpha)).mean() \n",
    "            for alpha in alphas]\n",
    "\n",
    "# 將cv_ridge 轉換為 Series object\n",
    "cv_ridge = pd.Series(cv_ridge, index = alphas)\n",
    "# 輸出分數\n",
    "print('Ridge RMSE loss:')\n",
    "print(cv_ridge, '\\n')\n",
    "# 輸出分數的平均\n",
    "print('Ridge RMSE loss Mean:')\n",
    "print(cv_ridge.mean())\n",
    "\n",
    "# 將各個常規化的強度製作為圖表\n",
    "plt.figure(figsize=(10, 5)) # 描繪區域的尺寸\n",
    "plt.plot(cv_ridge) # 將cv_ridge描繪為圖形\n",
    "plt.grid() # 顯示格線\n",
    "plt.title('Validation - by regularization strength')\n",
    "plt.xlabel('Alpha')\n",
    "plt.ylabel('RMSE')\n",
    "plt.show()"
   ]
  },
  {
   "cell_type": "code",
   "execution_count": 17,
   "id": "c36818e7",
   "metadata": {
    "execution": {
     "iopub.execute_input": "2023-01-13T17:42:56.568409Z",
     "iopub.status.busy": "2023-01-13T17:42:56.567976Z",
     "iopub.status.idle": "2023-01-13T17:43:01.013173Z",
     "shell.execute_reply": "2023-01-13T17:43:01.011462Z"
    },
    "papermill": {
     "duration": 4.462125,
     "end_time": "2023-01-13T17:43:01.018468",
     "exception": false,
     "start_time": "2023-01-13T17:42:56.556343",
     "status": "completed"
    },
    "tags": []
   },
   "outputs": [
    {
     "name": "stdout",
     "output_type": "stream",
     "text": [
      "Lasso regression RMSE loss:\n",
      "[0.10330995 0.13147299 0.12552458 0.10530461 0.14723333]\n",
      "Average loss: 0.12256909294467\n",
      "Minimum loss: 0.10330995071896426\n",
      "Best alpha : 0.0005\n"
     ]
    }
   ],
   "source": [
    "from sklearn.linear_model import LassoCV\n",
    "\n",
    "# 使用LASSO迴歸模型進行推斷\n",
    "# 使用4種L1範數進行嘗試\n",
    "model_lasso = LassoCV(alphas = [1, 0.1, 0.001, 0.0005]).fit(X_train, y)\n",
    "\n",
    "print('Lasso regression RMSE loss:')                    # 透過交叉驗證\n",
    "print(rmse_cv(model_lasso))                             # 輸出RMSE\n",
    "\n",
    "print('Average loss:', rmse_cv(model_lasso).mean())     # 輸出RMSE的平均\n",
    "print('Minimum loss:', rmse_cv(model_lasso).min())      # 輸出RMSE的最小值\n",
    "print('Best alpha :', model_lasso.alpha_)               # 輸出被系統選用的alpha值"
   ]
  },
  {
   "cell_type": "code",
   "execution_count": 18,
   "id": "dce7a901",
   "metadata": {
    "execution": {
     "iopub.execute_input": "2023-01-13T17:43:01.112254Z",
     "iopub.status.busy": "2023-01-13T17:43:01.111574Z",
     "iopub.status.idle": "2023-01-13T17:43:17.798194Z",
     "shell.execute_reply": "2023-01-13T17:43:17.796929Z"
    },
    "papermill": {
     "duration": 16.737741,
     "end_time": "2023-01-13T17:43:17.800928",
     "exception": false,
     "start_time": "2023-01-13T17:43:01.063187",
     "status": "completed"
    },
    "tags": []
   },
   "outputs": [
    {
     "data": {
      "text/html": [
       "<div>\n",
       "<style scoped>\n",
       "    .dataframe tbody tr th:only-of-type {\n",
       "        vertical-align: middle;\n",
       "    }\n",
       "\n",
       "    .dataframe tbody tr th {\n",
       "        vertical-align: top;\n",
       "    }\n",
       "\n",
       "    .dataframe thead th {\n",
       "        text-align: right;\n",
       "    }\n",
       "</style>\n",
       "<table border=\"1\" class=\"dataframe\">\n",
       "  <thead>\n",
       "    <tr style=\"text-align: right;\">\n",
       "      <th></th>\n",
       "      <th>train-rmse-mean</th>\n",
       "      <th>train-rmse-std</th>\n",
       "      <th>test-rmse-mean</th>\n",
       "      <th>test-rmse-std</th>\n",
       "    </tr>\n",
       "  </thead>\n",
       "  <tbody>\n",
       "    <tr>\n",
       "      <th>0</th>\n",
       "      <td>10.380516</td>\n",
       "      <td>0.003151</td>\n",
       "      <td>10.380511</td>\n",
       "      <td>0.007226</td>\n",
       "    </tr>\n",
       "    <tr>\n",
       "      <th>1</th>\n",
       "      <td>9.345149</td>\n",
       "      <td>0.002915</td>\n",
       "      <td>9.345143</td>\n",
       "      <td>0.007586</td>\n",
       "    </tr>\n",
       "    <tr>\n",
       "      <th>2</th>\n",
       "      <td>8.413392</td>\n",
       "      <td>0.002710</td>\n",
       "      <td>8.413386</td>\n",
       "      <td>0.007926</td>\n",
       "    </tr>\n",
       "    <tr>\n",
       "      <th>3</th>\n",
       "      <td>7.574888</td>\n",
       "      <td>0.002511</td>\n",
       "      <td>7.575220</td>\n",
       "      <td>0.007951</td>\n",
       "    </tr>\n",
       "    <tr>\n",
       "      <th>4</th>\n",
       "      <td>6.820174</td>\n",
       "      <td>0.002320</td>\n",
       "      <td>6.820488</td>\n",
       "      <td>0.007688</td>\n",
       "    </tr>\n",
       "    <tr>\n",
       "      <th>...</th>\n",
       "      <td>...</td>\n",
       "      <td>...</td>\n",
       "      <td>...</td>\n",
       "      <td>...</td>\n",
       "    </tr>\n",
       "    <tr>\n",
       "      <th>405</th>\n",
       "      <td>0.040728</td>\n",
       "      <td>0.000315</td>\n",
       "      <td>0.125469</td>\n",
       "      <td>0.013440</td>\n",
       "    </tr>\n",
       "    <tr>\n",
       "      <th>406</th>\n",
       "      <td>0.040663</td>\n",
       "      <td>0.000320</td>\n",
       "      <td>0.125464</td>\n",
       "      <td>0.013418</td>\n",
       "    </tr>\n",
       "    <tr>\n",
       "      <th>407</th>\n",
       "      <td>0.040607</td>\n",
       "      <td>0.000326</td>\n",
       "      <td>0.125434</td>\n",
       "      <td>0.013416</td>\n",
       "    </tr>\n",
       "    <tr>\n",
       "      <th>408</th>\n",
       "      <td>0.040534</td>\n",
       "      <td>0.000332</td>\n",
       "      <td>0.125432</td>\n",
       "      <td>0.013409</td>\n",
       "    </tr>\n",
       "    <tr>\n",
       "      <th>409</th>\n",
       "      <td>0.040472</td>\n",
       "      <td>0.000354</td>\n",
       "      <td>0.125413</td>\n",
       "      <td>0.013406</td>\n",
       "    </tr>\n",
       "  </tbody>\n",
       "</table>\n",
       "<p>410 rows × 4 columns</p>\n",
       "</div>"
      ],
      "text/plain": [
       "     train-rmse-mean  train-rmse-std  test-rmse-mean  test-rmse-std\n",
       "0          10.380516        0.003151       10.380511       0.007226\n",
       "1           9.345149        0.002915        9.345143       0.007586\n",
       "2           8.413392        0.002710        8.413386       0.007926\n",
       "3           7.574888        0.002511        7.575220       0.007951\n",
       "4           6.820174        0.002320        6.820488       0.007688\n",
       "..               ...             ...             ...            ...\n",
       "405         0.040728        0.000315        0.125469       0.013440\n",
       "406         0.040663        0.000320        0.125464       0.013418\n",
       "407         0.040607        0.000326        0.125434       0.013416\n",
       "408         0.040534        0.000332        0.125432       0.013409\n",
       "409         0.040472        0.000354        0.125413       0.013406\n",
       "\n",
       "[410 rows x 4 columns]"
      ]
     },
     "execution_count": 18,
     "metadata": {},
     "output_type": "execute_result"
    }
   ],
   "source": [
    "import xgboost as xgb\n",
    "\n",
    "dtrain = xgb.DMatrix(X_train, label = y)\n",
    "\n",
    "# 決策樹深度為3、學習率為 0.1\n",
    "params = {\"max_depth\":3, \"eta\":0.1}\n",
    "# 使用xgboost模型執行交叉驗證\n",
    "cross_val = xgb.cv(params,\n",
    "                   dtrain,\n",
    "                   num_boost_round=1000,    # 決策樹的數量\n",
    "                   early_stopping_rounds=50)  # 提前中止的監控次數\n",
    "cross_val"
   ]
  },
  {
   "cell_type": "code",
   "execution_count": 19,
   "id": "3a288a93",
   "metadata": {
    "execution": {
     "iopub.execute_input": "2023-01-13T17:43:17.823751Z",
     "iopub.status.busy": "2023-01-13T17:43:17.823321Z",
     "iopub.status.idle": "2023-01-13T17:43:18.070342Z",
     "shell.execute_reply": "2023-01-13T17:43:18.068985Z"
    },
    "papermill": {
     "duration": 0.261746,
     "end_time": "2023-01-13T17:43:18.073134",
     "exception": false,
     "start_time": "2023-01-13T17:43:17.811388",
     "status": "completed"
    },
    "tags": []
   },
   "outputs": [
    {
     "data": {
      "image/png": "[encoded data removed]",
      "text/plain": [
       "<Figure size 576x432 with 1 Axes>"
      ]
     },
     "metadata": {
      "needs_background": "light"
     },
     "output_type": "display_data"
    }
   ],
   "source": [
    "plt.figure(figsize=(8, 6))   # 描繪區域的尺寸\n",
    "plt.plot(cross_val.loc[30:,[\"train-rmse-mean\"]], linestyle = '--',\n",
    "         label = 'Train')\n",
    "plt.plot(cross_val.loc[30:,[\"test-rmse-mean\"]], \n",
    "         label = 'Validation')\n",
    "plt.grid()   # 顯示格線\n",
    "plt.xlabel('num_boost_round')\n",
    "plt.ylabel('RMSE')\n",
    "plt.legend()\n",
    "plt.show()"
   ]
  },
  {
   "cell_type": "code",
   "execution_count": 20,
   "id": "a0e633e1",
   "metadata": {
    "execution": {
     "iopub.execute_input": "2023-01-13T17:43:18.096912Z",
     "iopub.status.busy": "2023-01-13T17:43:18.096441Z",
     "iopub.status.idle": "2023-01-13T17:43:37.322017Z",
     "shell.execute_reply": "2023-01-13T17:43:37.320686Z"
    },
    "papermill": {
     "duration": 19.240639,
     "end_time": "2023-01-13T17:43:37.324753",
     "exception": false,
     "start_time": "2023-01-13T17:43:18.084114",
     "status": "completed"
    },
    "tags": []
   },
   "outputs": [
    {
     "name": "stdout",
     "output_type": "stream",
     "text": [
      "xgboost RMSE loss:\n",
      "0.12437590040488114\n"
     ]
    }
   ],
   "source": [
    "model_xgb = xgb.XGBRegressor(n_estimators=410,    # 決策樹數量\n",
    "                             max_depth=3,         # 決策樹深度\n",
    "                             learning_rate=0.1)   # 學習率 0.1\n",
    "model_xgb.fit(X_train, y)\n",
    "print('xgboost RMSE loss:')\n",
    "print(rmse_cv(model_xgb).mean()) # 透過交叉驗證輸出RMSE的平均"
   ]
  },
  {
   "cell_type": "code",
   "execution_count": 21,
   "id": "bd96cb5f",
   "metadata": {
    "execution": {
     "iopub.execute_input": "2023-01-13T17:43:37.349812Z",
     "iopub.status.busy": "2023-01-13T17:43:37.349328Z",
     "iopub.status.idle": "2023-01-13T17:43:37.429242Z",
     "shell.execute_reply": "2023-01-13T17:43:37.428034Z"
    },
    "papermill": {
     "duration": 0.096582,
     "end_time": "2023-01-13T17:43:37.433848",
     "exception": false,
     "start_time": "2023-01-13T17:43:37.337266",
     "status": "completed"
    },
    "tags": []
   },
   "outputs": [],
   "source": [
    "lasso_preds = np.expm1(model_lasso.predict(X_test))\n",
    "xgb_preds = np.expm1(model_xgb.predict(X_test))\n"
   ]
  },
  {
   "cell_type": "code",
   "execution_count": 22,
   "id": "5a7c8b86",
   "metadata": {
    "execution": {
     "iopub.execute_input": "2023-01-13T17:43:37.486650Z",
     "iopub.status.busy": "2023-01-13T17:43:37.486266Z",
     "iopub.status.idle": "2023-01-13T17:43:37.491194Z",
     "shell.execute_reply": "2023-01-13T17:43:37.490204Z"
    },
    "papermill": {
     "duration": 0.028878,
     "end_time": "2023-01-13T17:43:37.493338",
     "exception": false,
     "start_time": "2023-01-13T17:43:37.464460",
     "status": "completed"
    },
    "tags": []
   },
   "outputs": [],
   "source": [
    "preds = lasso_preds * 0.7 + xgb_preds * 0.3"
   ]
  },
  {
   "cell_type": "code",
   "execution_count": 23,
   "id": "8014c6b0",
   "metadata": {
    "execution": {
     "iopub.execute_input": "2023-01-13T17:43:37.516975Z",
     "iopub.status.busy": "2023-01-13T17:43:37.516509Z",
     "iopub.status.idle": "2023-01-13T17:43:37.529015Z",
     "shell.execute_reply": "2023-01-13T17:43:37.528012Z"
    },
    "papermill": {
     "duration": 0.02758,
     "end_time": "2023-01-13T17:43:37.531610",
     "exception": false,
     "start_time": "2023-01-13T17:43:37.504030",
     "status": "completed"
    },
    "tags": []
   },
   "outputs": [],
   "source": [
    "solution = pd.DataFrame({\"id\":test.Id, \"SalePrice\":preds})\n",
    "solution.to_csv(\"ensemble_sol.csv\", index = False) "
   ]
  }
 ],
 "metadata": {
  "kernelspec": {
   "display_name": "Python 3",
   "language": "python",
   "name": "python3"
  },
  "language_info": {
   "codemirror_mode": {
    "name": "ipython",
    "version": 3
   },
   "file_extension": ".py",
   "mimetype": "text/x-python",
   "name": "python",
   "nbconvert_exporter": "python",
   "pygments_lexer": "ipython3",
   "version": "3.7.12"
  },
  "papermill": {
   "default_parameters": {},
   "duration": 60.279716,
   "end_time": "2023-01-13T17:43:38.366486",
   "environment_variables": {},
   "exception": null,
   "input_path": "__notebook__.ipynb",
   "output_path": "__notebook__.ipynb",
   "parameters": {},
   "start_time": "2023-01-13T17:42:38.086770",
   "version": "2.3.4"
  }
 },
 "nbformat": 4,
 "nbformat_minor": 5
}
